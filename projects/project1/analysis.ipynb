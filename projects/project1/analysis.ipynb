{
 "cells": [
  {
   "cell_type": "code",
   "execution_count": 10,
   "metadata": {},
   "outputs": [
    {
     "name": "stdout",
     "output_type": "stream",
     "text": [
      "Total Sales in UK: £8187806.36\n",
      "Average Sales per Transaction: £18.77\n",
      "Top 10 Products by Total Sales:\n",
      "Description\n",
      "DOTCOM POSTAGE                        206245.48\n",
      "REGENCY CAKESTAND 3 TIER              134405.94\n",
      "WHITE HANGING HEART T-LIGHT HOLDER     93953.07\n",
      "PARTY BUNTING                          92501.73\n",
      "JUMBO BAG RED RETROSPOT                84516.44\n",
      "PAPER CHAIN KIT 50'S CHRISTMAS         61888.19\n",
      "ASSORTED COLOUR BIRD ORNAMENT          54662.15\n",
      "CHILLI LIGHTS                          52986.86\n",
      "PICNIC BASKET WICKER 60 PIECES         39619.50\n",
      "BLACK RECORD COVER FRAME               39387.00\n",
      "Name: TotalSales, dtype: float64\n"
     ]
    }
   ],
   "source": [
    "import pandas as pd # for data science\n",
    "import numpy as np  # linear algebra library\n",
    "import matplotlib.pyplot as plt # plotting library\n",
    "# import stats functions\n",
    "from scipy import stats\n",
    "# normal continuous random variable\n",
    "from scipy.stats import norm \n",
    "\n",
    "# read and clean\n",
    "retail_data = pd.read_csv('https://archive.ics.uci.edu/static/public/352/data.csv') \n",
    "df = pd.DataFrame(retail_data)\n",
    "\n",
    "# Convert 'InvoiceDate' to datetime format\n",
    "df['InvoiceDate'] = pd.to_datetime(df['InvoiceDate'])\n",
    "\n",
    "# Add a 'TotalSales' column: Quantity * UnitPrice\n",
    "df['TotalSales'] = df['Quantity'] * df['UnitPrice']\n",
    "\n",
    "# Extract only United Kingdom retail data for analysis\n",
    "uk_data = df[df['Country'] == 'United Kingdom']\n",
    "uk_data.tail()\n",
    "\n",
    "\n",
    "# Sales Analysis\n",
    "# Total Sales\n",
    "total_sales = uk_data['TotalSales'].sum()\n",
    "print(f\"Total Sales in UK: £{total_sales:.2f}\")\n",
    "\n",
    "# Average Sales per Transaction by invoiceNo\n",
    "average_sales = uk_data.groupby('InvoiceNo')['TotalSales'].mean().mean()\n",
    "print(f\"Average Sales per Transaction: £{average_sales:.2f}\")\n",
    "\n",
    "# determine the top 10 Products by Sales\n",
    "top_products = uk_data.groupby('Description')['TotalSales'].sum().sort_values(ascending=False).head(10)\n",
    "print(\"Top 10 Products by Total Sales:\")\n",
    "print(top_products)\n",
    "\n",
    "# Time-Series Analysis\n",
    "# Total sales by Date (day) ignoring time \n",
    "sales_by_date = uk_data.groupby(uk_data['InvoiceDate'].dt.date)['TotalSales'].sum()\n",
    "\n"
   ]
  }
 ],
 "metadata": {
  "kernelspec": {
   "display_name": "Python 3",
   "language": "python",
   "name": "python3"
  },
  "language_info": {
   "codemirror_mode": {
    "name": "ipython",
    "version": 3
   },
   "file_extension": ".py",
   "mimetype": "text/x-python",
   "name": "python",
   "nbconvert_exporter": "python",
   "pygments_lexer": "ipython3",
   "version": "3.10.8"
  }
 },
 "nbformat": 4,
 "nbformat_minor": 2
}
